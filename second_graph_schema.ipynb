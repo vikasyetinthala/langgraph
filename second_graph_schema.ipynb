{
 "cells": [
  {
   "cell_type": "code",
   "execution_count": 12,
   "id": "7336fc30",
   "metadata": {},
   "outputs": [],
   "source": [
    "from typing_extensions import TypedDict\n",
    "from typing import Literal"
   ]
  },
  {
   "cell_type": "code",
   "execution_count": 13,
   "id": "b5b83230",
   "metadata": {},
   "outputs": [],
   "source": [
    "class TypedState(TypedDict):\n",
    "    name:str \n",
    "    game:Literal['cricket','badminton']"
   ]
  },
  {
   "cell_type": "code",
   "execution_count": 22,
   "id": "1c3dd22a",
   "metadata": {},
   "outputs": [],
   "source": [
    "def play_game(state:TypedState):\n",
    "    print(\"play_game node has been called\")\n",
    "    return {\"name\":state[\"name\"]+ \" wanted to play\"}\n",
    "\n",
    "def cricket(state:TypedState):\n",
    "    print(\"cricket node has been called\")\n",
    "    return {\"game\":\"cricket\"}\n",
    "\n",
    "def badminton(state:TypedState):\n",
    "    print(\"badminton node has been called\")\n",
    "    return {\"game\":\"badminton\"}"
   ]
  },
  {
   "cell_type": "code",
   "execution_count": 36,
   "id": "f6d1cbb5",
   "metadata": {},
   "outputs": [],
   "source": [
    "def play_game(state:TypedState):\n",
    "    print(\"play_game node has been called\")\n",
    "    return {\"name\":state[\"name\"]+ \" wanted to play\"}\n",
    "\n",
    "def cricket(state:TypedState):\n",
    "    print(\"cricket node has been called\")\n",
    "    return {\"name\":state[\"name\"]+\" cricket\",\"game\":\"cricket\"}\n",
    "\n",
    "def badminton(state:TypedState):\n",
    "    print(\"badminton node has been called\")\n",
    "    return {\"name\":state[\"name\"]+\" badminton\",\"game\":\"badminton\"}"
   ]
  },
  {
   "cell_type": "code",
   "execution_count": null,
   "id": "06f01740",
   "metadata": {},
   "outputs": [],
   "source": [
    "def play_game(state:TypedState):\n",
    "    print(\"play_game node has been called\")\n",
    "    return {\"name\":state[\"name\"]}\n",
    "\n",
    "def cricket(state:TypedState):\n",
    "    print(\"cricket node has been called\")\n",
    "    return {\"game\":\"cricket\"}\n",
    "\n",
    "def badminton(state:TypedState):\n",
    "    print(\"badminton node has been called\")\n",
    "    return {\"game\":\"badminton\"}"
   ]
  },
  {
   "cell_type": "code",
   "execution_count": 46,
   "id": "633f3590",
   "metadata": {},
   "outputs": [],
   "source": [
    "import random \n",
    "\n",
    "def random_play(state:TypedState)->Literal['cricket','badminton']:\n",
    "    if random.random()>0.5:\n",
    "        return 'cricket' \n",
    "    else:\n",
    "        return 'badminton'"
   ]
  },
  {
   "cell_type": "code",
   "execution_count": 9,
   "id": "3f29af8d",
   "metadata": {},
   "outputs": [],
   "source": [
    "from langgraph.graph import StateGraph, START, END"
   ]
  },
  {
   "cell_type": "code",
   "execution_count": 14,
   "id": "c0282508",
   "metadata": {},
   "outputs": [
    {
     "data": {
      "text/plain": [
       "<langgraph.graph.state.StateGraph at 0x277fd89fa10>"
      ]
     },
     "execution_count": 14,
     "metadata": {},
     "output_type": "execute_result"
    }
   ],
   "source": [
    "graph=StateGraph(TypedState)\n",
    "\n",
    "graph.add_node(\"play_game\",play_game)\n",
    "graph.add_node(\"cricket\",cricket)\n",
    "graph.add_node(\"badminton\",badminton)"
   ]
  },
  {
   "cell_type": "code",
   "execution_count": 56,
   "id": "08d8b37e",
   "metadata": {},
   "outputs": [
    {
     "data": {
      "text/plain": [
       "<langgraph.graph.state.StateGraph at 0x2663edf1b50>"
      ]
     },
     "execution_count": 56,
     "metadata": {},
     "output_type": "execute_result"
    }
   ],
   "source": [
    "graph.add_edge(START,\"play_game\")\n",
    "graph.add_conditional_edges('play_game',random_play)\n",
    "graph.add_edge(\"cricket\",END)\n",
    "graph.add_edge(\"badminton\",END)"
   ]
  },
  {
   "cell_type": "code",
   "execution_count": 57,
   "id": "1ecc9ec3",
   "metadata": {},
   "outputs": [],
   "source": [
    "graph_builder=graph.compile()"
   ]
  },
  {
   "cell_type": "code",
   "execution_count": 12,
   "id": "2d11edce",
   "metadata": {},
   "outputs": [],
   "source": [
    "from IPython.display import Image, display"
   ]
  },
  {
   "cell_type": "code",
   "execution_count": 58,
   "id": "f525506b",
   "metadata": {},
   "outputs": [
    {
     "data": {
      "image/png": "[encoded data removed]",
      "text/plain": [
       "<IPython.core.display.Image object>"
      ]
     },
     "metadata": {},
     "output_type": "display_data"
    }
   ],
   "source": [
    "display(Image(graph_builder.get_graph().draw_mermaid_png()))"
   ]
  },
  {
   "cell_type": "code",
   "execution_count": 51,
   "id": "d41f7490",
   "metadata": {},
   "outputs": [
    {
     "name": "stdout",
     "output_type": "stream",
     "text": [
      "play_game node has been called\n",
      "cricket node has been called\n"
     ]
    },
    {
     "data": {
      "text/plain": [
       "{'name': 'vikas', 'game': 'cricket'}"
      ]
     },
     "execution_count": 51,
     "metadata": {},
     "output_type": "execute_result"
    }
   ],
   "source": [
    "graph_builder.invoke({'name':'vikas'})"
   ]
  },
  {
   "cell_type": "code",
   "execution_count": 52,
   "id": "4b47a8cd",
   "metadata": {},
   "outputs": [
    {
     "name": "stdout",
     "output_type": "stream",
     "text": [
      "play_game node has been called\n",
      "badminton node has been called\n"
     ]
    },
    {
     "data": {
      "text/plain": [
       "{'name': 'madhu', 'game': 'badminton'}"
      ]
     },
     "execution_count": 52,
     "metadata": {},
     "output_type": "execute_result"
    }
   ],
   "source": [
    "graph_builder.invoke({'name':'madhu'})"
   ]
  },
  {
   "cell_type": "code",
   "execution_count": null,
   "id": "e4fcb5d4",
   "metadata": {},
   "outputs": [
    {
     "name": "stdout",
     "output_type": "stream",
     "text": [
      "play_game node has been called\n",
      "cricket node has been called\n"
     ]
    },
    {
     "data": {
      "text/plain": [
       "{'name': 123, 'game': 'cricket'}"
      ]
     },
     "execution_count": 59,
     "metadata": {},
     "output_type": "execute_result"
    }
   ],
   "source": [
    "graph_builder.invoke({'name':123})    \n",
    "# this is the problem. even if you provide integer also it accepts. to overcome this we go for pydantic "
   ]
  },
  {
   "cell_type": "code",
   "execution_count": 3,
   "id": "0017cd40",
   "metadata": {},
   "outputs": [],
   "source": [
    "from dataclasses import dataclass\n",
    "from typing import Literal"
   ]
  },
  {
   "cell_type": "code",
   "execution_count": 4,
   "id": "1bee7d0e",
   "metadata": {},
   "outputs": [],
   "source": [
    "@dataclass\n",
    "class DataClassState:\n",
    "    name:str \n",
    "    game:Literal['cricket','badminton']"
   ]
  },
  {
   "cell_type": "code",
   "execution_count": 6,
   "id": "0964577d",
   "metadata": {},
   "outputs": [],
   "source": [
    "def play_game(state:DataClassState):\n",
    "    print(\"play_game node has been called\")\n",
    "    return {\"name\":state.name+ \" wanted to play\"}\n",
    "\n",
    "def cricket(state:DataClassState):\n",
    "    print(\"cricket node has been called\")\n",
    "    return {\"name\":state.name+\" cricket\",\"game\":\"cricket\"}\n",
    "\n",
    "def badminton(state:DataClassState):\n",
    "    print(\"badminton node has been called\")\n",
    "    return {\"name\":state.name+\" badminton\",\"game\":\"badminton\"}"
   ]
  },
  {
   "cell_type": "code",
   "execution_count": 8,
   "id": "9f9fa6d7",
   "metadata": {},
   "outputs": [],
   "source": [
    "import random \n",
    "\n",
    "def random_play(state:DataClassState)->Literal['cricket','badminton']:\n",
    "    if random.random()>0.5:\n",
    "        return 'cricket' \n",
    "    else:\n",
    "        return 'badminton'"
   ]
  },
  {
   "cell_type": "code",
   "execution_count": 15,
   "id": "c067766b",
   "metadata": {},
   "outputs": [
    {
     "data": {
      "text/plain": [
       "<langgraph.graph.state.StateGraph at 0x277fd846a10>"
      ]
     },
     "execution_count": 15,
     "metadata": {},
     "output_type": "execute_result"
    }
   ],
   "source": [
    "graph=StateGraph(DataClassState)\n",
    "\n",
    "graph.add_node(\"play_game\",play_game)\n",
    "graph.add_node(\"cricket\",cricket)\n",
    "graph.add_node(\"badminton\",badminton)"
   ]
  },
  {
   "cell_type": "code",
   "execution_count": 16,
   "id": "666bdcb4",
   "metadata": {},
   "outputs": [
    {
     "data": {
      "text/plain": [
       "<langgraph.graph.state.StateGraph at 0x277fd846a10>"
      ]
     },
     "execution_count": 16,
     "metadata": {},
     "output_type": "execute_result"
    }
   ],
   "source": [
    "graph.add_edge(START,\"play_game\")\n",
    "graph.add_conditional_edges('play_game',random_play)\n",
    "graph.add_edge(\"cricket\",END)\n",
    "graph.add_edge(\"badminton\",END)"
   ]
  },
  {
   "cell_type": "code",
   "execution_count": 17,
   "id": "27ec1464",
   "metadata": {},
   "outputs": [],
   "source": [
    "graph_builder=graph.compile()"
   ]
  },
  {
   "cell_type": "code",
   "execution_count": 25,
   "id": "f0a135d1",
   "metadata": {},
   "outputs": [
    {
     "name": "stdout",
     "output_type": "stream",
     "text": [
      "play_game node has been called\n",
      "cricket node has been called\n"
     ]
    },
    {
     "data": {
      "text/plain": [
       "{'name': 'vikas wanted to play cricket', 'game': 'cricket'}"
      ]
     },
     "execution_count": 25,
     "metadata": {},
     "output_type": "execute_result"
    }
   ],
   "source": [
    "graph_builder.invoke({'name':'vikas','game':\"cricket\"})"
   ]
  }
 ],
 "metadata": {
  "kernelspec": {
   "display_name": "langgraph_env",
   "language": "python",
   "name": "python3"
  },
  "language_info": {
   "codemirror_mode": {
    "name": "ipython",
    "version": 3
   },
   "file_extension": ".py",
   "mimetype": "text/x-python",
   "name": "python",
   "nbconvert_exporter": "python",
   "pygments_lexer": "ipython3",
   "version": "3.11.9"
  }
 },
 "nbformat": 4,
 "nbformat_minor": 5
}
