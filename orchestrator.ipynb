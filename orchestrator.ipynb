{
 "cells": [
  {
   "cell_type": "code",
   "execution_count": null,
   "id": "b7c2926b",
   "metadata": {},
   "outputs": [],
   "source": [
    "print(\"hi workflow\")"
   ]
  },
  {
   "cell_type": "code",
   "execution_count": null,
   "id": "5da8043a",
   "metadata": {},
   "outputs": [],
   "source": []
  }
 ],
 "metadata": {
  "language_info": {
   "name": "python"
  }
 },
 "nbformat": 4,
 "nbformat_minor": 5
}
