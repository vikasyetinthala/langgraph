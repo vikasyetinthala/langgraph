{
 "cells": [
  {
   "cell_type": "code",
   "execution_count": 1,
   "id": "e2d56b09",
   "metadata": {},
   "outputs": [],
   "source": [
    "from typing_extensions import TypedDict"
   ]
  },
  {
   "cell_type": "code",
   "execution_count": 2,
   "id": "da615371",
   "metadata": {},
   "outputs": [],
   "source": [
    "class State(TypedDict):\n",
    "    graph_info:str "
   ]
  },
  {
   "cell_type": "code",
   "execution_count": 3,
   "id": "16364006",
   "metadata": {},
   "outputs": [],
   "source": [
    "def start_play(state:State):\n",
    "    print(\"start_play node has been called\")\n",
    "    return {\"graph_info\":state['graph_info']+\" I am planning to play\"}\n",
    "\n",
    "def cricket(state:State):\n",
    "    print(\"My cricket node has been called\")\n",
    "    return {\"graph_info\":state['graph_info']+\" cricket\"}\n",
    "\n",
    "def badminton(state:State):\n",
    "    print(\"My badminton node has been called\")\n",
    "    return {\"graph_info\":state['graph_info']+\" badminton\"}"
   ]
  },
  {
   "cell_type": "code",
   "execution_count": 4,
   "id": "5cdb85ec",
   "metadata": {},
   "outputs": [],
   "source": [
    "import random \n",
    "from typing import Literal\n",
    "\n",
    "def random_play(state:State)->Literal['cricket','badminton']:\n",
    "    graph_info=state['graph_info']\n",
    "\n",
    "    if random.random()>0.5:\n",
    "        return \"cricket\"\n",
    "    else:\n",
    "        return \"badminton\""
   ]
  },
  {
   "cell_type": "code",
   "execution_count": 5,
   "id": "5fc9a0aa",
   "metadata": {},
   "outputs": [],
   "source": [
    "from langgraph.graph import StateGraph,START,END"
   ]
  },
  {
   "cell_type": "code",
   "execution_count": 6,
   "id": "873e9a7b",
   "metadata": {},
   "outputs": [],
   "source": [
    "# build graph\n",
    "graph=StateGraph(State)\n",
    "\n",
    "# adding the nodes \n",
    "\n",
    "graph.add_node(\"start_play\",start_play)\n",
    "graph.add_node(\"cricket\",cricket)\n",
    "graph.add_node(\"badminton\",badminton)\n",
    "\n",
    "# adding edges\n",
    "\n",
    "graph.add_edge(START,\"start_play\")\n",
    "graph.add_conditional_edges(\"start_play\",random_play)\n",
    "graph.add_edge(\"cricket\",END)\n",
    "graph.add_edge(\"badminton\",END)\n",
    "\n",
    "# compile the graph\n",
    "\n",
    "graph_builder=graph.compile()"
   ]
  },
  {
   "cell_type": "code",
   "execution_count": 7,
   "id": "fd2d9787",
   "metadata": {},
   "outputs": [],
   "source": [
    "from IPython.display import Image, display "
   ]
  },
  {
   "cell_type": "code",
   "execution_count": 8,
   "id": "e05c4c3b",
   "metadata": {},
   "outputs": [
    {
     "data": {
      "image/png": "[encoded data removed]",
      "text/plain": [
       "<IPython.core.display.Image object>"
      ]
     },
     "metadata": {},
     "output_type": "display_data"
    }
   ],
   "source": [
    "display(Image(graph_builder.get_graph().draw_mermaid_png()))"
   ]
  },
  {
   "cell_type": "code",
   "execution_count": 9,
   "id": "02ff2775",
   "metadata": {},
   "outputs": [
    {
     "name": "stdout",
     "output_type": "stream",
     "text": [
      "start_play node has been called\n",
      "My badminton node has been called\n"
     ]
    },
    {
     "data": {
      "text/plain": [
       "{'graph_info': 'Hey My name is vikas I am planning to play badminton'}"
      ]
     },
     "execution_count": 9,
     "metadata": {},
     "output_type": "execute_result"
    }
   ],
   "source": [
    "graph_builder.invoke({'graph_info':\"Hey My name is vikas\"})"
   ]
  },
  {
   "cell_type": "code",
   "execution_count": null,
   "id": "2fd68c5c",
   "metadata": {},
   "outputs": [],
   "source": []
  },
  {
   "cell_type": "code",
   "execution_count": null,
   "id": "ce204fc3",
   "metadata": {},
   "outputs": [],
   "source": []
  }
 ],
 "metadata": {
  "kernelspec": {
   "display_name": "langgraph_env",
   "language": "python",
   "name": "python3"
  },
  "language_info": {
   "codemirror_mode": {
    "name": "ipython",
    "version": 3
   },
   "file_extension": ".py",
   "mimetype": "text/x-python",
   "name": "python",
   "nbconvert_exporter": "python",
   "pygments_lexer": "ipython3",
   "version": "3.11.9"
  }
 },
 "nbformat": 4,
 "nbformat_minor": 5
}
